{
 "cells": [
  {
   "cell_type": "markdown",
   "id": "090d3b87-2121-42f8-8696-dd13ea103fc3",
   "metadata": {},
   "source": [
    "# Tests for Loading Data."
   ]
  },
  {
   "cell_type": "markdown",
   "id": "5dd4a57e-403e-4b7e-9647-b912ed33ad12",
   "metadata": {},
   "source": [
    "## 1. Imports"
   ]
  },
  {
   "cell_type": "code",
   "execution_count": 6,
   "id": "0a214751-d024-469a-9729-5e55a248316c",
   "metadata": {},
   "outputs": [],
   "source": [
    "import sys\n",
    "import os\n",
    "sys.path.insert(0, os.path.abspath('../'))\n",
    "\n",
    "from time import perf_counter\n",
    "\n",
    "from TumorDetection.Data.Loader import ImageLoader, DataPathLoader\n",
    "from TumorDetection.Data.Preprocess import Preprocessor\n",
    "from TumorDetection.Data.GraphDataset import GraphDataset\n",
    "from TumorDetection.Models.GNN.ImageToGraph import ImageToGraph\n",
    "\n",
    "from TumorDetection.Utils.DictClasses import DataPathDir"
   ]
  },
  {
   "cell_type": "markdown",
   "id": "eeda547d-d24e-42b8-a3c5-a9c1c84b6b83",
   "metadata": {},
   "source": [
    "## 2. Normal Data Loading\n",
    "\n",
    "### 2.1 Data Paths"
   ]
  },
  {
   "cell_type": "code",
   "execution_count": null,
   "id": "c2987809-b56f-4863-871e-d29778097aef",
   "metadata": {},
   "outputs": [],
   "source": [
    "Dp = DataPathLoader(dir_path=DataPathDir.get('dir_path'))\n",
    "# 1.2 TEST IMAGE LOADER -> DONE\n",
    "paths_classes = Dp(map_classes=BaseClassMap.to_dict())"
   ]
  },
  {
   "cell_type": "markdown",
   "id": "8c9ee1a7-82a4-4c43-8172-c41c4d04e7d9",
   "metadata": {},
   "source": [
    "### 2.2 Image Loader"
   ]
  },
  {
   "cell_type": "code",
   "execution_count": null,
   "id": "9c62c606-4bc0-4ae5-921e-802344eb6faa",
   "metadata": {},
   "outputs": [],
   "source": [
    "result = ImageLoader()(paths_classes, class_values=MappedClassValues.to_dict())"
   ]
  },
  {
   "cell_type": "markdown",
   "id": "92b2deed-4d23-45a1-8a0e-f59dc342cdc3",
   "metadata": {},
   "source": [
    "### 2.3 Preprocessor"
   ]
  },
  {
   "cell_type": "code",
   "execution_count": null,
   "id": "e8a6547b-986b-4500-9dbc-59809798414a",
   "metadata": {},
   "outputs": [],
   "source": [
    "# 1.3 TEST PREPROCESSOR -> DONE\n",
    "prep_result = Preprocessor()([r[2] for r in result])\n",
    "result = [(r[0], r[1], pr, r[3]) for r, pr in zip(result, prep_result)]"
   ]
  },
  {
   "cell_type": "markdown",
   "id": "095b5ee1-554c-4b4e-9e98-1f5104bb1af9",
   "metadata": {},
   "source": [
    "### 2.4 Image to Graph Conversion"
   ]
  },
  {
   "cell_type": "code",
   "execution_count": null,
   "id": "1ebc4da1-d8a8-4691-8ae6-bd2773cf1923",
   "metadata": {},
   "outputs": [],
   "source": [
    "Ig = ImageToGraph()\n",
    "it = perf_counter()\n",
    "graphs = Ig(results)\n",
    "print(f'Elapsed time: {round(perf_counter()-it, 5)} s')"
   ]
  },
  {
   "cell_type": "markdown",
   "id": "17abbb41-5128-4a0a-9f49-beb1f57d28fb",
   "metadata": {},
   "source": [
    "## 2. GraphDataLoader"
   ]
  },
  {
   "cell_type": "code",
   "execution_count": null,
   "id": "6ec3f09f-0eff-495c-ba8a-348c87a1199e",
   "metadata": {},
   "outputs": [],
   "source": [
    "train_dataloader = DataLoader(GraphDataset(DataPathDir.get('dir_path'),\n",
    "                                           train=True),\n",
    "                              **GraphDataLoaderCall.to_dict())\n",
    "test_dataloader = DataLoader(GraphDataset(DataPathDir.get('dir_path'),\n",
    "                                          train=False),\n",
    "                              **GraphDataLoaderCall.to_dict())"
   ]
  }
 ],
 "metadata": {
  "kernelspec": {
   "display_name": "Python 3 (ipykernel)",
   "language": "python",
   "name": "python3"
  },
  "language_info": {
   "codemirror_mode": {
    "name": "ipython",
    "version": 3
   },
   "file_extension": ".py",
   "mimetype": "text/x-python",
   "name": "python",
   "nbconvert_exporter": "python",
   "pygments_lexer": "ipython3",
   "version": "3.10.4"
  }
 },
 "nbformat": 4,
 "nbformat_minor": 5
}
