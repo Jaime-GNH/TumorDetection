{
 "cells": [
  {
   "cell_type": "code",
   "execution_count": 1,
   "id": "ede79524-b7d3-4176-ae37-8f83b4f956af",
   "metadata": {},
   "outputs": [],
   "source": [
    "import os\n",
    "import sys\n",
    "sys.path.insert(0, os.path.abspath('../'))\n",
    "from sklearn.model_selection import train_test_split\n",
    "\n",
    "from TumorDetection.data.loader import DataPathLoader\n",
    "from TumorDetection.data.dataset import TorchDataset, Dataset\n",
    "from TumorDetection.utils.dict_classes import DataPathDir, Device, ReportingPathDir\n",
    "from TumorDetection.models.efsnet import EFSNet\n",
    "from TumorDetection.models.utils.lightning_model import LightningModel\n",
    "from TumorDetection.models.utils.trainer import Trainer"
   ]
  },
  {
   "cell_type": "markdown",
   "id": "dc8345d8-84b1-4dc6-964f-23bf4c57acf2",
   "metadata": {},
   "source": [
    "## TODO"
   ]
  },
  {
   "cell_type": "code",
   "execution_count": null,
   "id": "2e5d21ed-f3e0-4f09-8e3d-6ff38cd4dad3",
   "metadata": {},
   "outputs": [],
   "source": []
  }
 ],
 "metadata": {
  "kernelspec": {
   "display_name": "Python 3 (ipykernel)",
   "language": "python",
   "name": "python3"
  },
  "language_info": {
   "codemirror_mode": {
    "name": "ipython",
    "version": 3
   },
   "file_extension": ".py",
   "mimetype": "text/x-python",
   "name": "python",
   "nbconvert_exporter": "python",
   "pygments_lexer": "ipython3",
   "version": "3.10.4"
  }
 },
 "nbformat": 4,
 "nbformat_minor": 5
}
