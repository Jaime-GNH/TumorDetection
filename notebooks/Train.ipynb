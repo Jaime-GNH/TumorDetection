{
 "cells": [
  {
   "cell_type": "markdown",
   "id": "58ef70ce-ea79-448b-b071-d154191438be",
   "metadata": {},
   "source": [
    "## Imports"
   ]
  },
  {
   "cell_type": "code",
   "execution_count": 3,
   "id": "47001287-67c5-415f-9b81-8bc2cc3a34af",
   "metadata": {},
   "outputs": [],
   "source": [
    "import os\n",
    "import sys\n",
    "sys.path.append('../')\n",
    "from sklearn.model_selection import train_test_split\n",
    "\n",
    "from TumorDetection.data.loader import DataPathLoader\n",
    "from TumorDetection.data.dataset import TorchDataset\n",
    "from TumorDetection.utils.dict_classes import DataPathDir, ReportingPathDir, Verbosity, Device\n",
    "from TumorDetection.models.efsnet import EFSNet\n",
    "from TumorDetection.models.utils.lightning_model import LightningModel\n",
    "from TumorDetection.models.utils.trainer import Trainer"
   ]
  },
  {
   "cell_type": "markdown",
   "id": "2aada66a-032c-4ff5-b988-b6e1aa4ce4a2",
   "metadata": {},
   "source": [
    "## Configuration params"
   ]
  },
  {
   "cell_type": "code",
   "execution_count": 7,
   "id": "e5341f6c-d8e6-42c6-9f63-3f1c9b3aafb6",
   "metadata": {},
   "outputs": [],
   "source": [
    "MODEL_NAME = 'EFSNet_clf_seg'\n",
    "DESCRIPTION = 'EFSNet with classification and binary segmentation.'\n",
    "CLASS_WEIGHTS = [1., 3., 3.]\n",
    "POS_WEIGHT = 5\n",
    "FROM_CHECKPOINT = False\n",
    "VALIDATE = True\n",
    "TEST = True\n",
    "VERBOSE = Verbosity.get('verbose')\n",
    "DEVICE = Device.get('device')"
   ]
  },
  {
   "cell_type": "markdown",
   "id": "fb3b600a-549b-4610-a3e2-82523eab3c52",
   "metadata": {},
   "source": [
    "## Path Finder\n",
    "\n",
    "If not using DataPathLoader (*for BUSI Dataset*) consider passing paths as tuple of:  \n",
    "- Image path\n",
    "- List images masks paths associated\n",
    "- List of associated label mask."
   ]
  },
  {
   "cell_type": "code",
   "execution_count": 5,
   "id": "a835f1bd-05af-4adc-83cb-fcbb3f538405",
   "metadata": {},
   "outputs": [],
   "source": [
    "dp = DataPathLoader(DataPathDir.get('dir_path'))\n",
    "paths = dp()"
   ]
  },
  {
   "cell_type": "markdown",
   "id": "4cfbd7f2-e948-4bf3-b019-5e0113e1e358",
   "metadata": {},
   "source": [
    "## Train Test Datasets"
   ]
  },
  {
   "cell_type": "code",
   "execution_count": null,
   "id": "b6c0a6a7-5c7b-4d5c-8035-c177b6b90ebd",
   "metadata": {},
   "outputs": [],
   "source": [
    "tr_paths, val_paths = train_test_split(paths, test_size=100, random_state=0, shuffle=True)\n",
    "tr_td = TorchDataset(tr_paths)\n",
    "val_td = TorchDataset(val_paths)"
   ]
  },
  {
   "cell_type": "markdown",
   "id": "1e3456ef-6c3b-409c-9af9-8de918a2655b",
   "metadata": {},
   "source": [
    "## Model definition."
   ]
  },
  {
   "cell_type": "code",
   "execution_count": null,
   "id": "331e30cf-5270-4da5-9787-781c524387c2",
   "metadata": {},
   "outputs": [],
   "source": [
    "lightningmodel = LightningModel(model=EFSNet(device=DEVICE,\n",
    "                                            verbose=VERBOSE),\n",
    "                                model_name=MODEL_NAME,\n",
    "                                description=DESCRIPTION,\n",
    "                                class_weights=CLASS_WEIGHTS,\n",
    "                                pos_weight=POS_WEIGHT,\n",
    "                                device=DEVICE)"
   ]
  },
  {
   "cell_type": "markdown",
   "id": "e913dc8f-e196-4130-b80f-36afb34da2e8",
   "metadata": {},
   "source": [
    "## Training"
   ]
  },
  {
   "cell_type": "code",
   "execution_count": null,
   "id": "b9e97469-074f-49a2-b0d7-b88b99a87acb",
   "metadata": {},
   "outputs": [],
   "source": [
    "trainer = Trainer(model_name=MODEL_NAME,\n",
    "                  ckpt_dir=os.path.join(ReportingPathDir.get('dir_path'), 'ckpt'),\n",
    "                  verbose=VERBOSE)\n",
    "trainer(model=lighningmodel,\n",
    "        train_data=tr_td,\n",
    "        test_data=val_td,\n",
    "        from_checkpoint=FROM_CHECKPOINT,\n",
    "        validate_model=VALIDATE,\n",
    "        test_model=TEST)"
   ]
  }
 ],
 "metadata": {
  "kernelspec": {
   "display_name": "Python 3 (ipykernel)",
   "language": "python",
   "name": "python3"
  },
  "language_info": {
   "codemirror_mode": {
    "name": "ipython",
    "version": 3
   },
   "file_extension": ".py",
   "mimetype": "text/x-python",
   "name": "python",
   "nbconvert_exporter": "python",
   "pygments_lexer": "ipython3",
   "version": "3.10.4"
  }
 },
 "nbformat": 4,
 "nbformat_minor": 5
}
