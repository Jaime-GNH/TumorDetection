{
 "cells": [
  {
   "cell_type": "markdown",
   "id": "58ef70ce-ea79-448b-b071-d154191438be",
   "metadata": {},
   "source": [
    "## 0. Imports"
   ]
  },
  {
   "cell_type": "code",
   "execution_count": null,
   "id": "47001287-67c5-415f-9b81-8bc2cc3a34af",
   "metadata": {},
   "outputs": [],
   "source": [
    "import os\n",
    "import sys\n",
    "sys.path.append('../')\n",
    "from sklearn.model_selection import train_test_split\n",
    "\n",
    "from TumorDetection.data.loader import DataPathLoader\n",
    "from TumorDetection.data.dataset import TorchDatasetClfSeg, TorchDatasetSeg\n",
    "from TumorDetection.utils.dict_classes import DataPathDir, ReportingPathDir, Verbosity, Device\n",
    "from TumorDetection.models.efsnet import EFSNetClfSeg, EFSNetSeg\n",
    "from TumorDetection.models.utils.lightning_model import LightningModelClfSeg, LightningModelSeg\n",
    "from TumorDetection.models.utils.trainer import Trainer"
   ]
  },
  {
   "cell_type": "markdown",
   "id": "ee94c726-4d32-483f-9670-a328981b47eb",
   "metadata": {},
   "source": [
    "## 1. Classification - Segmentation"
   ]
  },
  {
   "cell_type": "markdown",
   "id": "2aada66a-032c-4ff5-b988-b6e1aa4ce4a2",
   "metadata": {},
   "source": [
    "### Configuration params"
   ]
  },
  {
   "cell_type": "code",
   "execution_count": null,
   "id": "e5341f6c-d8e6-42c6-9f63-3f1c9b3aafb6",
   "metadata": {},
   "outputs": [],
   "source": [
    "MODEL_NAME = 'EFSNet_clf_seg'\n",
    "DESCRIPTION = 'EFSNet with classification and binary segmentation.'\n",
    "CLASS_WEIGHTS = [1., 3., 3.]\n",
    "POS_WEIGHT = 5\n",
    "BATCH_SIZE = 64\n",
    "TEST_SIZE = 100\n",
    "FROM_CHECKPOINT = False\n",
    "VALIDATE = True\n",
    "TEST = True\n",
    "VERBOSE = Verbosity.get('verbose')\n",
    "DEVICE = Device.get('device')"
   ]
  },
  {
   "cell_type": "markdown",
   "id": "fb3b600a-549b-4610-a3e2-82523eab3c52",
   "metadata": {},
   "source": [
    "### Path Finder\n",
    "\n",
    "If not using DataPathLoader (*for BUSI Dataset*) consider passing paths as tuple of:  \n",
    "- Image path\n",
    "- List images masks paths associated\n",
    "- List of associated label mask."
   ]
  },
  {
   "cell_type": "code",
   "execution_count": null,
   "id": "a835f1bd-05af-4adc-83cb-fcbb3f538405",
   "metadata": {},
   "outputs": [],
   "source": [
    "dp = DataPathLoader(DataPathDir.get('dir_path'))\n",
    "paths = dp()"
   ]
  },
  {
   "cell_type": "markdown",
   "id": "4cfbd7f2-e948-4bf3-b019-5e0113e1e358",
   "metadata": {},
   "source": [
    "### Train Test Datasets"
   ]
  },
  {
   "cell_type": "code",
   "execution_count": null,
   "id": "b6c0a6a7-5c7b-4d5c-8035-c177b6b90ebd",
   "metadata": {},
   "outputs": [],
   "source": [
    "tr_paths, val_paths = train_test_split(paths, test_size=TEST_SIZE, random_state=0, shuffle=True)\n",
    "tr_td = TorchDatasetClfSeg(tr_paths,\n",
    "                           crop_prob=0.5,\n",
    "                           rotation_degrees=180,\n",
    "                           range_contrast=(0.75, 1.25),\n",
    "                           range_brightness=(0.75, 1.25),\n",
    "                           vertical_flip_prob=0.25,\n",
    "                           horizontal_flip_prob=0.25)\n",
    "val_td = TorchDatasetClfSeg(val_paths,\n",
    "                            crop_prob=None,\n",
    "                            rotation_degrees=None,\n",
    "                            range_contrast=None,\n",
    "                            range_brightness=None,\n",
    "                            vertical_flip_prob=None,\n",
    "                            horizontal_flip_prob=None)"
   ]
  },
  {
   "cell_type": "markdown",
   "id": "1e3456ef-6c3b-409c-9af9-8de918a2655b",
   "metadata": {},
   "source": [
    "### Model definition."
   ]
  },
  {
   "cell_type": "code",
   "execution_count": null,
   "id": "331e30cf-5270-4da5-9787-781c524387c2",
   "metadata": {},
   "outputs": [],
   "source": [
    "lighningmodel = LightningModelClfSeg(model=EFSNetClfSeg(device=DEVICE,\n",
    "                                                        verbose=VERBOSE),\n",
    "                                     model_name=MODEL_NAME,\n",
    "                                     description=DESCRIPTION,\n",
    "                                     class_weights=CLASS_WEIGHTS,\n",
    "                                     pos_weight=POS_WEIGHT,\n",
    "                                     device=DEVICE)"
   ]
  },
  {
   "cell_type": "markdown",
   "id": "e913dc8f-e196-4130-b80f-36afb34da2e8",
   "metadata": {},
   "source": [
    "### Training\n",
    "*Better performance using the associated script train_efsnet_clfseg.py*"
   ]
  },
  {
   "cell_type": "code",
   "execution_count": null,
   "id": "b9e97469-074f-49a2-b0d7-b88b99a87acb",
   "metadata": {},
   "outputs": [],
   "source": [
    "trainer = Trainer(model_name=MODEL_NAME,\n",
    "                  max_epochs=EPOCHS,\n",
    "                  ckpt_dir=os.path.join(ReportingPathDir.get('dir_path'), 'ckpt'),\n",
    "                  verbose=VERBOSE)\n",
    "trainer(model=lighningmodel,\n",
    "        train_batch_size=BATCH_SIZE,\n",
    "        val_batch_size=TEST_SIZE,\n",
    "        train_data=tr_td,\n",
    "        test_data=val_td,\n",
    "        from_checkpoint=False,\n",
    "        validate_model=VALIDATE,\n",
    "        test_model=TEST)"
   ]
  },
  {
   "cell_type": "markdown",
   "id": "de55d56a-6daa-4eec-b6c4-6fa0edac2240",
   "metadata": {},
   "source": [
    "## 2. Segementation"
   ]
  },
  {
   "cell_type": "markdown",
   "id": "d664d5a8-4850-496d-92be-7910fb50b07c",
   "metadata": {},
   "source": [
    "### Configuration Params"
   ]
  },
  {
   "cell_type": "code",
   "execution_count": null,
   "id": "3df15e9a-995d-440b-bbd3-6528f5942976",
   "metadata": {},
   "outputs": [],
   "source": [
    "MODEL_NAME = 'EFSNet_seg'\n",
    "DESCRIPTION = 'EFSNet with classification and multiclass segmentation'\n",
    "VERBOSE = Verbosity.get('verbose')\n",
    "DEVICE = Device.get('device')\n",
    "EPOCHS = 2500\n",
    "CLASS_WEIGHT = [1., 5., 5.]\n",
    "BATCH_SIZE = 64\n",
    "TEST_SIZE = 100"
   ]
  },
  {
   "cell_type": "markdown",
   "id": "a590a3b5-26b2-4909-84f0-2fc7d04a2bdd",
   "metadata": {},
   "source": [
    "### Data"
   ]
  },
  {
   "cell_type": "code",
   "execution_count": null,
   "id": "1c68c9a1-5431-454e-962a-8c9c94d0cd1c",
   "metadata": {},
   "outputs": [],
   "source": [
    "dp = DataPathLoader(DataPathDir.get('dir_path'))\n",
    "paths = dp()\n",
    "tr_paths, val_paths = train_test_split(paths, test_size=TEST_SIZE, random_state=0, shuffle=True)\n",
    "tr_td = TorchDatasetSeg(tr_paths,\n",
    "                        crop_prob=0.5,\n",
    "                        rotation_degrees=180,\n",
    "                        range_contrast=(0.75, 1.25),\n",
    "                        range_brightness=(0.75, 1.25),\n",
    "                        vertical_flip_prob=0.25,\n",
    "                        horizontal_flip_prob=0.25)\n",
    "val_td = TorchDatasetSeg(val_paths,\n",
    "                         crop_prob=None,\n",
    "                         rotation_degrees=None,\n",
    "                         range_contrast=None,\n",
    "                         range_brightness=None,\n",
    "                         vertical_flip_prob=None,\n",
    "                         horizontal_flip_prob=None)"
   ]
  },
  {
   "cell_type": "markdown",
   "id": "d9cc2fb6-cb3e-446a-adaa-7c3bb88012ac",
   "metadata": {},
   "source": [
    "### Model definition"
   ]
  },
  {
   "cell_type": "code",
   "execution_count": null,
   "id": "220d3a46-95db-4371-a3f9-7fbded31251d",
   "metadata": {},
   "outputs": [],
   "source": [
    "lighningmodel = LightningModelSeg(model=EFSNetSeg(device=DEVICE,\n",
    "                                                  verbose=VERBOSE),\n",
    "                                  model_name=MODEL_NAME,\n",
    "                                  description=DESCRIPTION,\n",
    "                                  class_weights=CLASS_WEIGHT,\n",
    "                                  device=DEVICE)"
   ]
  },
  {
   "cell_type": "markdown",
   "id": "3adc3ce8-04c7-489b-92f6-7f5d99c6bf96",
   "metadata": {},
   "source": [
    "### Train\n",
    "*Better performance using the associated script train_efsnet_seg.py*"
   ]
  },
  {
   "cell_type": "code",
   "execution_count": null,
   "id": "853469e5-2ff3-4e54-8513-911e16ed1ba7",
   "metadata": {},
   "outputs": [],
   "source": [
    "trainer = Trainer(model_name=MODEL_NAME,\n",
    "                  max_epochs=EPOCHS,\n",
    "                  ckpt_dir=os.path.join(ReportingPathDir.get('dir_path'), 'ckpt'),\n",
    "                  verbose=VERBOSE)\n",
    "trainer(model=lighningmodel,\n",
    "        train_batch_size=BATCH_SIZE,\n",
    "        val_batch_size=TEST_SIZE,\n",
    "        train_data=tr_td,\n",
    "        test_data=val_td,\n",
    "        from_checkpoint=False,\n",
    "        validate_model=True,\n",
    "        test_model=True)"
   ]
  }
 ],
 "metadata": {
  "kernelspec": {
   "display_name": "Python 3 (ipykernel)",
   "language": "python",
   "name": "python3"
  },
  "language_info": {
   "codemirror_mode": {
    "name": "ipython",
    "version": 3
   },
   "file_extension": ".py",
   "mimetype": "text/x-python",
   "name": "python",
   "nbconvert_exporter": "python",
   "pygments_lexer": "ipython3",
   "version": "3.10.4"
  }
 },
 "nbformat": 4,
 "nbformat_minor": 5
}
